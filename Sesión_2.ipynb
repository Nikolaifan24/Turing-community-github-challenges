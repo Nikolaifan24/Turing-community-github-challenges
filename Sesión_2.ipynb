{
  "nbformat": 4,
  "nbformat_minor": 0,
  "metadata": {
    "colab": {
      "name": "Sesión 2.ipynb",
      "provenance": [],
      "collapsed_sections": [],
      "authorship_tag": "ABX9TyPDo6VHLgt9lm4cq7becxwr",
      "include_colab_link": true
    },
    "kernelspec": {
      "name": "python3",
      "display_name": "Python 3"
    },
    "language_info": {
      "name": "python"
    }
  },
  "cells": [
    {
      "cell_type": "markdown",
      "metadata": {
        "id": "view-in-github",
        "colab_type": "text"
      },
      "source": [
        "<a href=\"https://colab.research.google.com/github/Nikolaifan24/Turing-community-github-challenges/blob/main/Sesi%C3%B3n_2.ipynb\" target=\"_parent\"><img src=\"https://colab.research.google.com/assets/colab-badge.svg\" alt=\"Open In Colab\"/></a>"
      ]
    },
    {
      "cell_type": "markdown",
      "source": [
        "# **Challenge 1**\n",
        "\n",
        "\n",
        "\n"
      ],
      "metadata": {
        "id": "Gtu9IZqe6w5O"
      }
    },
    {
      "cell_type": "code",
      "source": [
        "import random\n",
        "def generatort(x):\n",
        "  arreglo = []\n",
        "  if x == '':\n",
        "    for i in range(5):\n",
        "      arreglo.append(random.randint(1,100))\n",
        "  else:\n",
        "    x = int(x)\n",
        "    for i in range(x):\n",
        "      arreglo.append(random.randint(1,100))\n",
        "  return arreglo"
      ],
      "metadata": {
        "id": "ubgqaI3pqYZW"
      },
      "execution_count": null,
      "outputs": []
    },
    {
      "cell_type": "code",
      "source": [
        "name = input(\"funcion(\")\n",
        "generatort(name)\n"
      ],
      "metadata": {
        "id": "2YGyJ1G9Ynmh",
        "colab": {
          "base_uri": "https://localhost:8080/"
        },
        "outputId": "3046b168-accb-4554-f73f-88640b0ef2f4"
      },
      "execution_count": null,
      "outputs": [
        {
          "name": "stdout",
          "output_type": "stream",
          "text": [
            "funcion(4\n"
          ]
        },
        {
          "output_type": "execute_result",
          "data": {
            "text/plain": [
              "[50, 92, 61, 98]"
            ]
          },
          "metadata": {},
          "execution_count": 72
        }
      ]
    },
    {
      "cell_type": "markdown",
      "source": [
        "# **Challenge 2**"
      ],
      "metadata": {
        "id": "PpeXeLu17DJV"
      }
    },
    {
      "cell_type": "code",
      "source": [
        "def random(w,y):\n",
        "  arr = []\n",
        "  if y > w:\n",
        "    for i in range(w,y):\n",
        "      if i %2 == 0:\n",
        "        arr.append(i)\n",
        "  else:\n",
        "    print(\"Entrada no valida\")\n",
        "  \n",
        "  return arr"
      ],
      "metadata": {
        "id": "7LCRPKo9v88O"
      },
      "execution_count": null,
      "outputs": []
    },
    {
      "cell_type": "code",
      "source": [
        "random(99,90)"
      ],
      "metadata": {
        "colab": {
          "base_uri": "https://localhost:8080/"
        },
        "id": "Z46cXGLSyHxt",
        "outputId": "d8710c7b-f8e8-4684-a359-96d7123241bb"
      },
      "execution_count": null,
      "outputs": [
        {
          "output_type": "stream",
          "name": "stdout",
          "text": [
            "Entrada no valida\n"
          ]
        },
        {
          "output_type": "execute_result",
          "data": {
            "text/plain": [
              "[]"
            ]
          },
          "metadata": {},
          "execution_count": 83
        }
      ]
    }
  ]
}